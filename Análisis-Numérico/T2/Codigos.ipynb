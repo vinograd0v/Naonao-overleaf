{
 "cells": [
  {
   "cell_type": "markdown",
   "metadata": {},
   "source": [
    "## Punto 4c:"
   ]
  },
  {
   "cell_type": "markdown",
   "metadata": {},
   "source": [
    "## Python "
   ]
  },
  {
   "cell_type": "markdown",
   "metadata": {},
   "source": [
    "Comenzamos utilizando python para implementar la solución del punto 4c, en este punto usamos factorización PLU dado que Matlab de fondo al hacer LU realmente hace pivoteo parcial"
   ]
  },
  {
   "cell_type": "code",
   "execution_count": null,
   "metadata": {},
   "outputs": [
    {
     "name": "stdout",
     "output_type": "stream",
     "text": [
      "[ 0.  0.  0.  0. -0.  0. -0.  0. -0.  1.]\n"
     ]
    }
   ],
   "source": [
    "import numpy as np\n",
    "from scipy.linalg import cholesky, solve_triangular, hilbert, lu\n",
    "\n",
    "n = 10\n",
    "H = hilbert(n) \n",
    "b = np.array([1 / (i + n-1) for i in range(1, n + 1)])\n",
    "P, L, U = lu(H)  \n",
    "\n",
    "y = solve_triangular(L, P.T@b, lower=True)\n",
    "a= solve_triangular(U, y)\n",
    "\n",
    "print(a)\n"
   ]
  },
  {
   "cell_type": "markdown",
   "metadata": {},
   "source": [
    "Implementamos también Cholesky"
   ]
  },
  {
   "cell_type": "code",
   "execution_count": null,
   "metadata": {},
   "outputs": [
    {
     "name": "stdout",
     "output_type": "stream",
     "text": [
      "[ 1.70086722e-11 -1.50685462e-09  3.26950703e-08 -3.01492436e-07\n",
      "  1.45436401e-06 -4.03474038e-06  6.66994533e-06 -6.48671365e-06\n",
      "  3.42388651e-06  9.99999244e-01]\n"
     ]
    }
   ],
   "source": [
    "import numpy as np\n",
    "from scipy.linalg import cholesky, solve_triangular, hilbert, lu\n",
    "\n",
    "\n",
    "n = 10\n",
    "H = hilbert(n) \n",
    "b = np.array([1 / (i + n-1) for i in range(1, n + 1)])\n",
    "L = cholesky(H, lower=True)\n",
    "\n",
    "y = solve_triangular(L, b, lower=True)\n",
    "a= solve_triangular(L.T, y)\n",
    "\n",
    "print(a)"
   ]
  },
  {
   "cell_type": "markdown",
   "metadata": {},
   "source": [
    "Se evidencia que estamos aproximando el polinomio por el propio polinomio, de hecho esto se ve mejor cuando hacemos Gauss, allí el error de hecho es menor. Esto se justificará mejor en el PDF"
   ]
  },
  {
   "cell_type": "markdown",
   "metadata": {},
   "source": [
    "## Matlab"
   ]
  },
  {
   "cell_type": "markdown",
   "metadata": {},
   "source": [
    "Comparamos con Matlab"
   ]
  },
  {
   "cell_type": "code",
   "execution_count": null,
   "metadata": {},
   "outputs": [
    {
     "name": "stdout",
     "output_type": "stream",
     "text": [
      "   0   0   0   0   0   0   0   0   0   1\n"
     ]
    }
   ],
   "source": [
    "n = 10; \n",
    "H = hilb(n); %Genera la matriz de Hilbert de orden n\n",
    "b = zeros(n, 1); %Crea un vector con n ceros \n",
    "for i = 1:n\n",
    "    b(i) = 1 / (i + n - 1); %Cambia  las entradas por las del ejercicio\n",
    "end\n",
    "[L, U] = lu(H);\n",
    "\n",
    "%Solucionamos los sistemas\n",
    "\n",
    "y = L \\ b;\n",
    "a_LU = U \\ y;\n",
    "\n",
    "disp(a_LU')"
   ]
  },
  {
   "cell_type": "code",
   "execution_count": 21,
   "metadata": {},
   "outputs": [
    {
     "name": "stdout",
     "output_type": "stream",
     "text": [
      " Columns 1 through 6:\n",
      "\n",
      "   4.4438e-11  -3.8598e-09   8.2505e-08  -7.5194e-07   3.5931e-06  -9.8904e-06\n",
      "\n",
      " Columns 7 through 10:\n",
      "\n",
      "   1.6243e-05  -1.5708e-05   8.2514e-06   1.0000e+00\n"
     ]
    }
   ],
   "source": [
    "n = 10; \n",
    "H = hilb(n); \n",
    "\n",
    "b = zeros(n, 1); \n",
    "for i = 1:n\n",
    "    b(i) = 1 / (i + n - 1); \n",
    "end\n",
    "\n",
    "L = chol(H); \n",
    "\n",
    "y = L' \\ b;\n",
    "x = L \\ y;\n",
    "\n",
    "disp(x')"
   ]
  },
  {
   "cell_type": "markdown",
   "metadata": {},
   "source": [
    "## Punto 4d:"
   ]
  },
  {
   "cell_type": "markdown",
   "metadata": {},
   "source": [
    "Código Matlab usando Semilogy"
   ]
  },
  {
   "cell_type": "code",
   "execution_count": null,
   "metadata": {},
   "outputs": [],
   "source": [
    "n_values = 2:13;\n",
    "\n",
    "errors_LU = zeros(length(n_values), 1);\n",
    "errors_CH = zeros(length(n_values), 1);\n",
    "\n",
    "for k = 1:length(n_values)\n",
    "    n = n_values(k);\n",
    "\n",
    "    H = hilb(n);\n",
    "    b = zeros(n, 1);\n",
    "    for i = 1:n\n",
    "        b(i) = 1 / (n + i - 1);\n",
    "    end\n",
    "    \n",
    "    % Solución exacta\n",
    "    x_exact = zeros(n, 1);\n",
    "    x_exact(end) = 1;\n",
    "    \n",
    "    % Resolver usando LU\n",
    "    [L, U] = lu(H);\n",
    "    y_LU = L \\ b;\n",
    "    x_LU = U \\ y_LU;\n",
    "\n",
    "    % Resolver usando Cholesky\n",
    "    L_chol = chol(H); \n",
    "    y_CH = L_chol' \\ b;\n",
    "    x_CH = L_chol \\ y_CH;\n",
    "\n",
    "    % Calcular errores\n",
    "    errors_LU(k) = norm(x_LU - x_exact);\n",
    "    errors_CH(k) = norm(x_CH - x_exact);\n",
    "end\n",
    "errors_LU(errors_LU == 0) = 1e-16;\n",
    "% Graficar los errores\n",
    "figure;\n",
    "semilogy(n_values, errors_LU, 'r-o', 'LineWidth', 1.5, 'DisplayName', 'LU');\n",
    "hold on;\n",
    "semilogy(n_values, errors_CH, 'b-s', 'LineWidth', 1.5, 'DisplayName', 'Cholesky');\n",
    "grid on;\n",
    "xlabel('Tamaño de la matriz n');\n",
    "ylabel('Error');\n",
    "title('Errores de LU y Cholesky');\n",
    "legend show;"
   ]
  },
  {
   "cell_type": "markdown",
   "metadata": {},
   "source": [
    "Para el caso $n\\geq 14$ el código falla porque la matriz tiene número de condición muy alto, grafiquemoslo"
   ]
  },
  {
   "cell_type": "code",
   "execution_count": null,
   "metadata": {},
   "outputs": [],
   "source": [
    "n_values = 2:15;\n",
    "cond_numbers = zeros ( size ( n_values ) );\n",
    "\n",
    "for i = 1: length ( n_values )\n",
    "    n = n_values (i);\n",
    "    H = hilb (n);\n",
    "    cond_numbers (i) = cond (H);\n",
    "end\n",
    "\n",
    "figure ;\n",
    "semilogy ( n_values , cond_numbers , '-o', 'LineWidth', 1.5 ,'MarkerSize', 8) ;\n",
    "grid on;\n",
    "xlabel ('Tamaño de la matriz', 'FontSize', 11) ;\n",
    "ylabel ('Numero de condicion', 'FontSize', 11) ;"
   ]
  },
  {
   "cell_type": "markdown",
   "metadata": {},
   "source": [
    "## Punto 5"
   ]
  },
  {
   "cell_type": "markdown",
   "metadata": {},
   "source": [
    "Código de diferencias finitas"
   ]
  },
  {
   "cell_type": "code",
   "execution_count": null,
   "metadata": {},
   "outputs": [],
   "source": [
    "import numpy as np\n",
    "import matplotlib.pyplot as plt\n",
    "\n",
    "def solve_poisson(n):\n",
    "    h = 1 / n\n",
    "    x = np.linspace(0, 1, n + 1)\n",
    "    \n",
    "    f = np.sin(2 * np.pi * x[1:-1])  # Evitamos los puntos (T_0 y T_n)\n",
    "    b = (h ** 2) * f\n",
    "\n",
    "    main_diag = 2 * np.ones(n - 1)   # np.ones genera un vector de 1's\n",
    "    off_diag = -1 * np.ones(n - 2)\n",
    "    \n",
    "    for i in range(1, n - 1):\n",
    "        m = off_diag[i - 1] / main_diag[i - 1]\n",
    "        main_diag[i] = main_diag[i] - m * off_diag[i - 1]\n",
    "        b[i] =b[i] - m * b[i - 1]\n",
    "\n",
    "    # Sustitución hacia atrás\n",
    "    T = np.zeros(n - 1)\n",
    "    T[-1] = b[-1] / main_diag[-1]\n",
    "    for i in range(n - 3, -1, -1):\n",
    "        T[i] = (b[i] - off_diag[i] * T[i + 1]) / main_diag[i]\n",
    "\n",
    "    T_full = np.zeros(n + 1)\n",
    "    T_full[1:-1] = T\n",
    "    return x, T_full\n",
    "\n",
    "def sol(x):\n",
    "    return np.sin(2 * np.pi * x) / (4 * np.pi ** 2)\n",
    "\n",
    "n = 1000\n",
    "x, T_approx = solve_poisson(n)\n",
    "T_exact = sol(x)\n",
    "\n",
    "plt.figure(figsize=(10, 6))\n",
    "plt.plot(x, T_approx, label=\"Solución numérica\", lw=2)\n",
    "plt.plot(x, T_exact, label=\"Solución Exacta\", lw=2, linestyle=\"--\")\n",
    "plt.xlabel(\"$x$\", fontsize=11)\n",
    "plt.ylabel(\"$T(x)$\", fontsize=11)\n",
    "plt.legend(fontsize=10)\n",
    "plt.grid()\n",
    "plt.show()\n",
    "\n",
    "error = np.abs(T_exact - T_approx)\n",
    "print(f\"Error máximo: {np.max(error):.6e}\")\n"
   ]
  }
 ],
 "metadata": {
  "kernelspec": {
   "display_name": "Octave",
   "language": "octave",
   "name": "octave"
  },
  "language_info": {
   "file_extension": ".m",
   "help_links": [
    {
     "text": "GNU Octave",
     "url": "https://www.gnu.org/software/octave/support.html"
    },
    {
     "text": "Octave Kernel",
     "url": "https://github.com/Calysto/octave_kernel"
    },
    {
     "text": "MetaKernel Magics",
     "url": "https://metakernel.readthedocs.io/en/latest/source/README.html"
    }
   ],
   "mimetype": "text/x-octave",
   "name": "octave",
   "version": "3.13.1"
  }
 },
 "nbformat": 4,
 "nbformat_minor": 2
}
